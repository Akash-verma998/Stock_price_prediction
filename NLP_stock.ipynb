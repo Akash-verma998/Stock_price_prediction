{
 "cells": [
  {
   "cell_type": "markdown",
   "metadata": {},
   "source": [
    "#                           S&P 500 Index  Stock Price Prediction                    "
   ]
  },
  {
   "cell_type": "code",
   "execution_count": 9,
   "metadata": {},
   "outputs": [],
   "source": [
    "import numpy as np                                                  # for numeric calculation\n",
    "import pandas as pd                                                 # data processing, CSV file I/O (e.g. pd.read_csv)\n",
    "from keras.models import Sequential                                 # for model\n",
    "from keras.layers import LSTM,Dense                                 # add in model\n",
    "from sklearn.preprocessing import MinMaxScaler                      # Covert data in 0,1 form\n",
    "import matplotlib.pyplot as plt                                     # Graph Plotting"
   ]
  },
  {
   "cell_type": "markdown",
   "metadata": {},
   "source": [
    "## Load Data "
   ]
  },
  {
   "cell_type": "code",
   "execution_count": 10,
   "metadata": {},
   "outputs": [
    {
     "name": "stdout",
     "output_type": "stream",
     "text": [
      "         Date       Open       High        Low      Close  Adj Close    Volume\n",
      "0  1970-03-02  89.500000  90.800003  88.919998  89.709999  89.709999  12270000\n",
      "1  1970-03-03  89.709999  90.669998  88.959999  90.230003  90.230003  11700000\n",
      "2  1970-03-04  90.230003  91.050003  89.320000  90.040001  90.040001  11850000\n",
      "3  1970-03-05  90.040001  90.989998  89.379997  90.000000  90.000000  11370000\n",
      "4  1970-03-06  90.000000  90.360001  88.839996  89.440002  89.440002  10980000\n"
     ]
    }
   ],
   "source": [
    "data = pd.read_csv('GSPC.csv')                                      # Data loading\n",
    "print(data.head())                                                  # printing head data                                              # Necessary column for predcition               "
   ]
  },
  {
   "cell_type": "markdown",
   "metadata": {},
   "source": [
    "## Data Cleaning "
   ]
  },
  {
   "cell_type": "code",
   "execution_count": 51,
   "metadata": {},
   "outputs": [],
   "source": [
    "Ness=data['Adj Close']                               # Remvoing all the data taking only Adj close column to calcuation."
   ]
  },
  {
   "cell_type": "markdown",
   "metadata": {},
   "source": [
    "## Data Setting  "
   ]
  },
  {
   "cell_type": "code",
   "execution_count": 11,
   "metadata": {},
   "outputs": [
    {
     "data": {
      "text/plain": [
       "array([[0.00825243],\n",
       "       [0.00840887],\n",
       "       [0.00835171],\n",
       "       ...,\n",
       "       [0.91884159],\n",
       "       [0.87743507],\n",
       "       [0.87005209]])"
      ]
     },
     "execution_count": 11,
     "metadata": {},
     "output_type": "execute_result"
    }
   ],
   "source": [
    "Curr_data = Ness.values                              #Fecthing only data value\n",
    "scl = MinMaxScaler()                                 # MinMaxScaler to convert data in 0 ,1 \n",
    "Curr_data = Curr_data.reshape(Curr_data.shape[0],1)  #data reshaping\n",
    "Curr_data = scl.fit_transform(Curr_data)             #fitting using scaler\n",
    "Curr_data"
   ]
  },
  {
   "cell_type": "code",
   "execution_count": 12,
   "metadata": {},
   "outputs": [],
   "source": [
    "def processData(data,lb,gap):                                       #data process\n",
    "    X,Y = [],[]\n",
    "    for i in range(len(data)-lb-gap-1):                             # Converting data according to model\n",
    "        X.append(data[i:(i+lb),0])\n",
    "        Y.append(data[(i+lb+gap),0])\n",
    "    return np.array(X),np.array(Y)\n",
    "X,y = processData(Curr_data,5,5)\n",
    "X_train,X_test = X[:int(X.shape[0]*0.80)],X[int(X.shape[0]*0.80):]  #80% for training and 20% for testing\n",
    "y_train,y_test = y[:int(y.shape[0]*0.80)],y[int(y.shape[0]*0.80):]  #....."
   ]
  },
  {
   "cell_type": "markdown",
   "metadata": {},
   "source": [
    "## Model "
   ]
  },
  {
   "cell_type": "code",
   "execution_count": 13,
   "metadata": {},
   "outputs": [
    {
     "name": "stdout",
     "output_type": "stream",
     "text": [
      "Train on 10081 samples, validate on 2521 samples\n",
      "Epoch 1/10\n",
      "10081/10081 [==============================] - 31s 3ms/step - loss: 2.4021e-04 - val_loss: 0.0250\n",
      "Epoch 2/10\n",
      "10081/10081 [==============================] - 27s 3ms/step - loss: 5.8074e-04 - val_loss: 0.0218\n",
      "Epoch 3/10\n",
      "10081/10081 [==============================] - 26s 3ms/step - loss: 5.4131e-04 - val_loss: 0.0227\n",
      "Epoch 4/10\n",
      "10081/10081 [==============================] - 26s 3ms/step - loss: 4.9249e-04 - val_loss: 0.0171\n",
      "Epoch 5/10\n",
      "10081/10081 [==============================] - 27s 3ms/step - loss: 4.0048e-04 - val_loss: 0.0108\n",
      "Epoch 6/10\n",
      "10081/10081 [==============================] - 29s 3ms/step - loss: 2.5005e-04 - val_loss: 0.0013\n",
      "Epoch 7/10\n",
      "10081/10081 [==============================] - 27s 3ms/step - loss: 1.2243e-04 - val_loss: 3.5482e-04\n",
      "Epoch 8/10\n",
      "10081/10081 [==============================] - 26s 3ms/step - loss: 5.9335e-05 - val_loss: 2.7958e-04\n",
      "Epoch 9/10\n",
      "10081/10081 [==============================] - 28s 3ms/step - loss: 5.0373e-05 - val_loss: 3.9415e-04\n",
      "Epoch 10/10\n",
      "10081/10081 [==============================] - 29s 3ms/step - loss: 5.4513e-05 - val_loss: 7.6411e-04\n"
     ]
    }
   ],
   "source": [
    "model = Sequential()                            # It is for sequential calculation\n",
    "model.add(LSTM(256,input_shape=(5,1)))          # passing reuired Parameter to the Keras LSTM\n",
    "model.add(Dense(1))                             # Adding Dence Layer \n",
    "model.compile(optimizer='adam',loss='mse')      # using Adam Optimizer\n",
    "X_train = X_train.reshape((X_train.shape[0],X_train.shape[1],1)) #Covert 2d in 3d Lstm take 3d input\n",
    "X_test = X_test.reshape((X_test.shape[0],X_test.shape[1],1))     #2D-->3d \n",
    "history = model.fit(X_train,y_train,epochs=10,validation_data=(X_test,y_test),shuffle=False) #running for 100 epoch"
   ]
  },
  {
   "cell_type": "markdown",
   "metadata": {},
   "source": [
    "## Graph Between Actual and Predicted Result."
   ]
  },
  {
   "cell_type": "code",
   "execution_count": 14,
   "metadata": {},
   "outputs": [
    {
     "data": {
      "image/png": "[encoded data removed]",
      "text/plain": [
       "<Figure size 432x288 with 1 Axes>"
      ]
     },
     "metadata": {},
     "output_type": "display_data"
    }
   ],
   "source": [
    "Xt = model.predict(X_test)                                                       # Xt predection value           \n",
    "plt.plot(scl.inverse_transform(y_test.reshape(-1,1)), label='actual')            # Reshape actual data and transform\n",
    "plt.plot(scl.inverse_transform(Xt), label='predict')                             # transfrom prediction data\n",
    "plt.legend()                                                                     # plotting data\n",
    "plt.show()"
   ]
  },
  {
   "cell_type": "code",
   "execution_count": 15,
   "metadata": {},
   "outputs": [
    {
     "data": {
      "text/plain": [
       "[<matplotlib.lines.Line2D at 0x1f3a694ceb8>]"
      ]
     },
     "execution_count": 15,
     "metadata": {},
     "output_type": "execute_result"
    },
    {
     "data": {
      "image/png": "[encoded data removed]",
      "text/plain": [
       "<Figure size 432x288 with 1 Axes>"
      ]
     },
     "metadata": {},
     "output_type": "display_data"
    }
   ],
   "source": [
    "plt.plot(history.history['loss'])                                                #Graph Between value loss\n",
    "plt.plot(history.history['val_loss'])"
   ]
  },
  {
   "cell_type": "markdown",
   "metadata": {},
   "source": [
    "# Score"
   ]
  },
  {
   "cell_type": "code",
   "execution_count": 43,
   "metadata": {},
   "outputs": [
    {
     "name": "stdout",
     "output_type": "stream",
     "text": [
      "0.9311125255373698\n"
     ]
    }
   ],
   "source": [
    "Xt=Xt.reshape(Xt.shape[0])\n",
    "def score(y_truth,y_pred):\n",
    "    u=((y_truth-y_pred)**2).sum()\n",
    "    v=((y_truth-y_truth.mean())**2).sum()\n",
    "    return 1-u/v\n",
    "print(\"Testing Score: \"score(Xt,y_test))"
   ]
  },
  {
   "cell_type": "markdown",
   "metadata": {},
   "source": [
    "## Prediction for Different time slot     \n",
    "    \n",
    "    "
   ]
  },
  {
   "cell_type": "code",
   "execution_count": 36,
   "metadata": {},
   "outputs": [],
   "source": [
    "def setdata(data,days):\n",
    "    check_data=data[:days:]\n",
    "    ness1=check_data['Adj Close']\n",
    "    check_data = ness1.values                               #Fecthing only data value\n",
    "    scl = MinMaxScaler()                                    # MinMaxScaler to convert data in 0 ,1 \n",
    "    check_data = check_data.reshape(check_data.shape[0],1)  #data reshaping\n",
    "    check_data = scl.fit_transform(check_data)              #fitting using scaler\n",
    "    return check_data\n",
    "def prepData(data,lb,gap):                                  #data process\n",
    "    X,Y = [],[]\n",
    "    for i in range(len(data)-lb-gap-1):                     # Converting data according to model\n",
    "        X.append(data[i:(i+lb),0])\n",
    "        Y.append(data[(i+lb+gap),0])\n",
    "    return np.array(X),np.array(Y)\n",
    "prep_data=setdata(data[:1000:],1000)                       #can Pass x_test for given time 30 days means one month.\n",
    "X,y = processData(prep_data,5,5)                           #After getting one month data you can chekc for all the days of month."
   ]
  },
  {
   "cell_type": "code",
   "execution_count": 37,
   "metadata": {},
   "outputs": [],
   "source": [
    "X_test=X\n",
    "y_test=y\n",
    "X_test = X_test.reshape((X_test.shape[0],X_test.shape[1],1))"
   ]
  },
  {
   "cell_type": "code",
   "execution_count": 38,
   "metadata": {},
   "outputs": [],
   "source": [
    "Xt = model.predict(X_test)  \n",
    "Xt = Xt.reshape(Xt.shape[0])"
   ]
  },
  {
   "cell_type": "code",
   "execution_count": 39,
   "metadata": {},
   "outputs": [
    {
     "data": {
      "image/png": "[encoded data removed]",
      "text/plain": [
       "<Figure size 432x288 with 1 Axes>"
      ]
     },
     "metadata": {},
     "output_type": "display_data"
    }
   ],
   "source": [
    "Xt = model.predict(X_test)                                                       # Xt predection value           \n",
    "plt.plot(scl.inverse_transform(y_test.reshape(-1,1)), label='actual')            # Reshape actual data and transform\n",
    "plt.plot(scl.inverse_transform(Xt), label='predict')                             # transfrom prediction data\n",
    "plt.legend()                                                                     # plotting data\n",
    "plt.show()"
   ]
  },
  {
   "cell_type": "code",
   "execution_count": 50,
   "metadata": {},
   "outputs": [
    {
     "name": "stdout",
     "output_type": "stream",
     "text": [
      "predicted:[[1440.6364]]\n",
      "predicted:[[1415.0251]]\n",
      "predicted:[[1399.7065]]\n",
      "predicted:[[1393.453]]\n",
      "predicted:[[1371.2228]]\n",
      "predicted:[[1348.1146]]\n",
      "predicted:[[1320.8724]]\n",
      "predicted:[[1306.461]]\n",
      "predicted:[[1306.5868]]\n",
      "predicted:[[1295.7074]]\n",
      "predicted:[[1281.2014]]\n",
      "predicted:[[1279.3784]]\n",
      "predicted:[[1298.7314]]\n",
      "predicted:[[1347.9993]]\n",
      "predicted:[[1381.2643]]\n",
      "predicted:[[1393.2301]]\n",
      "predicted:[[1416.1283]]\n",
      "predicted:[[1443.4208]]\n",
      "predicted:[[1443.8827]]\n",
      "predicted:[[1429.5212]]\n",
      "predicted:[[1412.9075]]\n",
      "predicted:[[1397.3479]]\n",
      "predicted:[[1383.6779]]\n",
      "predicted:[[1373.0162]]\n",
      "predicted:[[1358.966]]\n",
      "predicted:[[1338.9961]]\n",
      "predicted:[[1312.1509]]\n",
      "predicted:[[1291.2372]]\n",
      "predicted:[[1259.3292]]\n",
      "predicted:[[1226.1183]]\n",
      "predicted:[[1213.4961]]\n",
      "predicted:[[1196.105]]\n",
      "predicted:[[1154.9683]]\n",
      "predicted:[[1107.767]]\n",
      "predicted:[[1073.6176]]\n",
      "predicted:[[1021.2783]]\n",
      "predicted:[[948.267]]\n",
      "predicted:[[938.8345]]\n",
      "predicted:[[939.5899]]\n",
      "predicted:[[912.144]]\n",
      "predicted:[[869.7926]]\n",
      "predicted:[[829.82336]]\n",
      "predicted:[[822.8214]]\n",
      "predicted:[[820.7733]]\n",
      "predicted:[[791.9511]]\n",
      "predicted:[[769.5368]]\n",
      "predicted:[[750.48987]]\n",
      "predicted:[[706.15686]]\n",
      "predicted:[[643.82947]]\n",
      "predicted:[[632.9196]]\n",
      "predicted:[[634.52466]]\n",
      "predicted:[[583.3039]]\n",
      "predicted:[[519.39667]]\n",
      "predicted:[[466.9862]]\n",
      "predicted:[[421.73752]]\n",
      "predicted:[[339.10492]]\n",
      "predicted:[[246.18327]]\n",
      "predicted:[[280.2569]]\n",
      "predicted:[[358.62045]]\n",
      "predicted:[[411.88974]]\n",
      "predicted:[[508.48294]]\n",
      "predicted:[[597.57904]]\n",
      "predicted:[[657.5605]]\n",
      "predicted:[[680.48755]]\n",
      "predicted:[[651.1122]]\n",
      "predicted:[[635.15686]]\n",
      "predicted:[[627.3119]]\n",
      "predicted:[[585.56506]]\n",
      "predicted:[[538.13446]]\n",
      "predicted:[[505.62558]]\n",
      "predicted:[[497.5507]]\n",
      "predicted:[[521.6365]]\n",
      "predicted:[[531.96606]]\n",
      "predicted:[[546.73804]]\n",
      "predicted:[[591.4611]]\n",
      "predicted:[[610.0858]]\n",
      "predicted:[[569.03516]]\n",
      "predicted:[[528.2969]]\n",
      "predicted:[[509.8036]]\n",
      "predicted:[[471.68198]]\n",
      "predicted:[[420.33054]]\n",
      "predicted:[[395.9883]]\n",
      "predicted:[[390.02725]]\n",
      "predicted:[[380.5737]]\n",
      "predicted:[[348.73615]]\n",
      "predicted:[[316.7629]]\n",
      "predicted:[[342.06738]]\n",
      "predicted:[[382.16226]]\n",
      "predicted:[[397.06207]]\n",
      "predicted:[[423.24576]]\n",
      "predicted:[[455.04514]]\n",
      "predicted:[[486.03204]]\n",
      "predicted:[[529.0419]]\n",
      "predicted:[[580.1292]]\n",
      "predicted:[[617.95123]]\n",
      "predicted:[[628.38965]]\n",
      "predicted:[[641.68726]]\n",
      "predicted:[[675.7847]]\n",
      "predicted:[[682.1904]]\n",
      "predicted:[[670.55786]]\n"
     ]
    }
   ],
   "source": [
    "act = []\n",
    "pred = []\n",
    "for i in range(100):\n",
    "    #i=X_test.shape[0]-1\n",
    "    Xt = model.predict(X_test[i].reshape(1,5,1))                                         #reshaping the data \n",
    "    print('predicted:{0}'.format(scl.inverse_transform(Xt)))                             #printing top 100 Adj Close"
   ]
  },
  {
   "cell_type": "code",
   "execution_count": null,
   "metadata": {},
   "outputs": [],
   "source": []
  }
 ],
 "metadata": {
  "kernelspec": {
   "display_name": "Python 3",
   "language": "python",
   "name": "python3"
  },
  "language_info": {
   "codemirror_mode": {
    "name": "ipython",
    "version": 3
   },
   "file_extension": ".py",
   "mimetype": "text/x-python",
   "name": "python",
   "nbconvert_exporter": "python",
   "pygments_lexer": "ipython3",
   "version": "3.6.5"
  }
 },
 "nbformat": 4,
 "nbformat_minor": 2
}
